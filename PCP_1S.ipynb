{
  "cells": [
    {
      "cell_type": "markdown",
      "metadata": {
        "id": "view-in-github",
        "colab_type": "text"
      },
      "source": [
        "<a href=\"https://colab.research.google.com/github/gabsouzkkj/GOW/blob/main/PCP_1S.ipynb\" target=\"_parent\"><img src=\"https://colab.research.google.com/assets/colab-badge.svg\" alt=\"Open In Colab\"/></a>"
      ]
    },
    {
      "cell_type": "markdown",
      "metadata": {
        "id": "vkNJdaakl9X7"
      },
      "source": [
        "## 01 - Entrada e Saída de Dados"
      ]
    },
    {
      "cell_type": "markdown",
      "metadata": {
        "id": "_mGIss-OmKVy"
      },
      "source": [
        "## Primeiros passos com Python\n",
        "\n",
        "No Python, assim como as demais linguagens, temos a forma correta de escrever os comandos. Isso é chamado de **sintaxe**. Cada comando, existe sua sintaxe correta de escrita, caso contrário, apresentará um erro."
      ]
    },
    {
      "cell_type": "code",
      "execution_count": null,
      "metadata": {
        "colab": {
          "base_uri": "https://localhost:8080/"
        },
        "id": "4T0h61ANopre",
        "outputId": "4f27867c-8bce-442d-82d1-a98c518cc1e7"
      },
      "outputs": [
        {
          "name": "stdout",
          "output_type": "stream",
          "text": [
            "The Zen of Python, by Tim Peters\n",
            "\n",
            "Beautiful is better than ugly.\n",
            "Explicit is better than implicit.\n",
            "Simple is better than complex.\n",
            "Complex is better than complicated.\n",
            "Flat is better than nested.\n",
            "Sparse is better than dense.\n",
            "Readability counts.\n",
            "Special cases aren't special enough to break the rules.\n",
            "Although practicality beats purity.\n",
            "Errors should never pass silently.\n",
            "Unless explicitly silenced.\n",
            "In the face of ambiguity, refuse the temptation to guess.\n",
            "There should be one-- and preferably only one --obvious way to do it.\n",
            "Although that way may not be obvious at first unless you're Dutch.\n",
            "Now is better than never.\n",
            "Although never is often better than *right* now.\n",
            "If the implementation is hard to explain, it's a bad idea.\n",
            "If the implementation is easy to explain, it may be a good idea.\n",
            "Namespaces are one honking great idea -- let's do more of those!\n"
          ]
        }
      ],
      "source": [
        "import this"
      ]
    },
    {
      "cell_type": "markdown",
      "metadata": {
        "id": "128INtAnoPYd"
      },
      "source": [
        "## Saída de dados\n",
        "\n",
        "O comando responsável por **exibir** informações para o usuário no Python é o `print`. Em pseudocódigo, lemos como `escreva`.\n",
        "\n",
        "Exemplo em pseudocógido: `escreva(\"Olá mundo!\")`\n",
        "\n",
        "Exemplo em Python: `print('Olá mundo')`"
      ]
    },
    {
      "cell_type": "code",
      "execution_count": null,
      "metadata": {
        "colab": {
          "base_uri": "https://localhost:8080/"
        },
        "id": "vYZYcDeDrrI_",
        "outputId": "f148b112-5e03-4d1b-b07c-e24922ee6544"
      },
      "outputs": [
        {
          "name": "stdout",
          "output_type": "stream",
          "text": [
            "Olá mundo!\n"
          ]
        }
      ],
      "source": [
        "print('Olá mundo!')"
      ]
    },
    {
      "cell_type": "markdown",
      "metadata": {
        "id": "P7PGgww9ruzl"
      },
      "source": [
        "## Entrada de dados\n",
        "\n",
        "Já o comando de entrada de dados, responsável por ler as informações digitadas pelo usuário, é o `input`. Em pseudocódigo, é lido como `leia`.\n",
        "\n",
        "Exemplo em pseudocódigo: `leia()`\n",
        "\n",
        "Exemplo em Python: `input()`\n",
        "\n",
        "Faça abaixo o código em Python:"
      ]
    },
    {
      "cell_type": "code",
      "execution_count": null,
      "metadata": {
        "colab": {
          "base_uri": "https://localhost:8080/"
        },
        "id": "0bwD6L1XsQ6O",
        "outputId": "f7d3e724-a552-4d02-8dfe-8e4558867a18"
      },
      "outputs": [
        {
          "data": {
            "text/plain": [
              "'Unimar'"
            ]
          },
          "execution_count": 13,
          "metadata": {},
          "output_type": "execute_result"
        }
      ],
      "source": [
        "input('Qual sua faculdade?')"
      ]
    },
    {
      "cell_type": "markdown",
      "metadata": {
        "id": "Ybha8_o3u45N"
      },
      "source": [
        "## 02 - Variáveis"
      ]
    },
    {
      "cell_type": "markdown",
      "metadata": {
        "id": "kfkJTQ7hvIp1"
      },
      "source": [
        "## Conceito\n",
        "\n",
        "Na computação, temos as variáveis. Variáveis, são posições na memória que sofrem alteração de valor.\n",
        "\n",
        "Ou seja, se você guardou um valor em uma variável, como um nome, uma idade, ele pode ser alterado posteriormente pois é possível essa volatilidade de seu valor.\n",
        "\n",
        "Para declarar uma variável, e armazenar um valor, é usado o sinal de = (igual).\n",
        "\n",
        "No Python, o tipo da variável é concebido de forma dinâmica, ou seja, no ato da atribuição de um valor."
      ]
    },
    {
      "cell_type": "markdown",
      "metadata": {
        "id": "nBeCp-XkyXz9"
      },
      "source": [
        "## Padrões\n",
        "\n",
        "Existem alguns padrões de declaração de variáveis, os mais comuns são:\n",
        "\n",
        "* unimarUniversidade = camelCase\n",
        "* UnimarUniversidade = PascalCase\n",
        "* unimar_universidade = snake_case"
      ]
    },
    {
      "cell_type": "code",
      "execution_count": null,
      "metadata": {
        "id": "3slG4FQryu2e"
      },
      "outputs": [],
      "source": [
        "nome = 'Nicollas' #normal\n",
        "nomePessoa = 'Nicollas' #camelCase\n",
        "NomePessoa = 'Nicollas' #PascalCase\n",
        "nome_pessoa = 'Nicollas' #snake_case"
      ]
    },
    {
      "cell_type": "markdown",
      "metadata": {
        "id": "pun5erMN0Qmd"
      },
      "source": [
        "Acima temos um exemplo de **atribuição** a uma variável, o valor 'Nicollas'.\n",
        "\n",
        "Podemos ler da seguinte maneira o comando: A variável `nome` recebe o valor de **Nicollas**.\n",
        "\n",
        "As aspas indicam que ela é do tipo texto.\n",
        "\n",
        "Com o que vimos, como podemos mostrar uma saudação para a pessoa que inseriou o nome na variável?"
      ]
    },
    {
      "cell_type": "code",
      "execution_count": null,
      "metadata": {
        "colab": {
          "base_uri": "https://localhost:8080/"
        },
        "id": "c918eOfb07NO",
        "outputId": "6669647d-6748-45cc-a841-fe4e4f924d9a"
      },
      "outputs": [
        {
          "name": "stdout",
          "output_type": "stream",
          "text": [
            "Olá Nicollas\n",
            "Olá Nicollas\n",
            "Olá Nicollas\n",
            "Olá Nicollas\n"
          ]
        }
      ],
      "source": [
        "print('Olá', nome)\n",
        "print('Olá', nomePessoa)\n",
        "print('Olá', NomePessoa)\n",
        "print('Olá', nome_pessoa)"
      ]
    },
    {
      "cell_type": "markdown",
      "metadata": {
        "id": "PiJKzTQJ13pm"
      },
      "source": [
        "## Concatenar\n",
        "\n",
        "Para juntarmos um conteúdo de texto variáveis, ou apenas variáveis com variáveis, usa-se a concatenação, simbolizada pela vírgula. Isso dita ao Python que você quer juntar/unir os valores.\n",
        "\n",
        "Exemplo com mais texto:"
      ]
    },
    {
      "cell_type": "code",
      "execution_count": null,
      "metadata": {
        "colab": {
          "base_uri": "https://localhost:8080/"
        },
        "id": "iPJCSLVA3c_M",
        "outputId": "38e1a18f-a535-4e9e-c124-2de6d9491a02"
      },
      "outputs": [
        {
          "name": "stdout",
          "output_type": "stream",
          "text": [
            "Olá Nicollas bem-vindo à Unimar!\n"
          ]
        }
      ],
      "source": [
        "print('Olá', nome, 'bem-vindo à Unimar!')"
      ]
    },
    {
      "cell_type": "markdown",
      "metadata": {
        "id": "WvR7P0UT3l8d"
      },
      "source": [
        "## Declaração\n",
        "\n",
        "Quando declaramos uma variável, temos que nos atentar na forma como declaramos as variáveis. Existe a sintaxe correta de declarações para tal.\n",
        "\n",
        "* sem espaços\n",
        "* não começar com números\n",
        "* sem usar caracteres especias/acentos\n",
        "* não usar palavras reservadas\n",
        "\n",
        "1. nota_1 - OK\n",
        "2. Média final - ACENTO E ESPAÇO\n",
        "3. Nome_Func - OK\n",
        "4. A - OK\n",
        "5. 123 - COMEÇA COM NÚMERO\n",
        "6. 1x - COMEÇA COM NÚMERO\n",
        "7. X1 - OK\n",
        "8. Código! - ACENTO E CARACTERE ESPECIAL\n",
        "9. Cod Cliente - ESPAÇO\n",
        "10. Y*X - CARACTERE ESPECIAL\n",
        "11. NOTA+2 - CARACTERE ESPECIAL"
      ]
    },
    {
      "cell_type": "markdown",
      "metadata": {
        "id": "9CUkyEZZF25s"
      },
      "source": [
        "## Tipos de dados\n",
        "\n",
        "Em Python, o tipo de uma variável não precisa ser declarado explicitamente antes de usar a variável. Python é uma linguagem de tipagem dinâmica, o que significa que o tipo de uma variável é inferido automaticamente com base no valor que ela recebe.\n",
        "\n",
        "Quando você atribui um valor a uma variável em Python, o interpretador determina o tipo dessa variável com base no tipo do valor atribuído. Exemplo\n"
      ]
    },
    {
      "cell_type": "markdown",
      "metadata": {
        "id": "vy4OPchJHJuV"
      },
      "source": [
        "`str`: representa uma cadeia de caracteres, ou seja, textos de forma geral:\n",
        "\n",
        "str = string = cadeia\n",
        "\n",
        "* 'Unimar - Universidade de Marília'\n",
        "* 'Nicollas'\n",
        "* 'Python'\n",
        "* '123'\n",
        "\n",
        "`int`: representa números inteiros\n",
        "\n",
        "int = interger = inteiro\n",
        "\n",
        "* 1\n",
        "* 50\n",
        "* -3\n",
        "\n",
        "`float`: representa números de ponto flutuante, ou seja, números com casas decimais\n",
        "\n",
        "float = floating = real\n",
        "\n",
        "* 3.14\n",
        "* -0.24\n",
        "* 145.6"
      ]
    },
    {
      "cell_type": "code",
      "execution_count": null,
      "metadata": {
        "colab": {
          "base_uri": "https://localhost:8080/"
        },
        "id": "rAsSchOUIsEk",
        "outputId": "a1153c56-743c-4ad7-a150-49818151b298"
      },
      "outputs": [
        {
          "name": "stdout",
          "output_type": "stream",
          "text": [
            "<class 'str'>\n",
            "<class 'int'>\n",
            "<class 'float'>\n"
          ]
        }
      ],
      "source": [
        "nomeAluno = 'StartUP'\n",
        "idade = 19\n",
        "altura = 1.90\n",
        "\n",
        "print(type(nome))\n",
        "print(type(idade))\n",
        "print(type(altura))"
      ]
    },
    {
      "cell_type": "code",
      "execution_count": null,
      "metadata": {
        "colab": {
          "base_uri": "https://localhost:8080/"
        },
        "id": "24n7X5tKLQDM",
        "outputId": "02f90e30-6869-42e6-db7a-fd838efbb7cc"
      },
      "outputs": [
        {
          "name": "stdout",
          "output_type": "stream",
          "text": [
            "Jefferson\n"
          ]
        }
      ],
      "source": [
        "print(nomeAluno)"
      ]
    },
    {
      "cell_type": "code",
      "execution_count": null,
      "metadata": {
        "colab": {
          "base_uri": "https://localhost:8080/"
        },
        "id": "2tDubdgjKzIE",
        "outputId": "10d43fd6-07e1-40fe-e2c6-2686e3424dcb"
      },
      "outputs": [
        {
          "name": "stdout",
          "output_type": "stream",
          "text": [
            "Digite o seu nome: Neymar\n",
            "Digite sua idade: 33\n",
            "Digite sua altura: 1.65\n"
          ]
        }
      ],
      "source": [
        "nomeAluno = input('Digite o seu nome: ')\n",
        "idade = input('Digite sua idade: ')\n",
        "altura = input('Digite sua altura: ')"
      ]
    },
    {
      "cell_type": "markdown",
      "metadata": {
        "id": "aD6BsY-zwfbA"
      },
      "source": [
        "Ao concatenar valores, tanto o sinal de vírgula `(,)` tanto como o sinal de `+` funcionam como strings (textos).\n",
        "\n",
        "O operador `+` só pode ser usado entre strings e faz uma concatenação sem adicionar espaços automaticamente. Já a vírgula pode-se usar com outros tipos de dados, e adiciona um espaço automaticamente.\n",
        "\n",
        "Porém, ao usar o sinal de `+` entre uma string e uma variável de tipo numeral, irá ocorrer um erro."
      ]
    },
    {
      "cell_type": "code",
      "execution_count": null,
      "metadata": {
        "id": "g_MHmIuuwfbA",
        "outputId": "936dd9dc-137b-4545-a9ed-f0ede69d37d9"
      },
      "outputs": [
        {
          "name": "stdout",
          "output_type": "stream",
          "text": [
            "Olá, Lucas. Você possui umaFerrari.\n",
            "Olá, Lucas. Você possui 38 anos.\n"
          ]
        }
      ],
      "source": [
        "nomeProfessor = 'Lucas' #string\n",
        "idadeProf = 38 #int\n",
        "carroProf = 'Ferrari'\n",
        "\n",
        "# print('olá,' + nomeProfessor + '. Você possui' + idadeProf 'anos.')\n",
        "print('Olá, ' + nomeProfessor + '. Você possui uma' + carroProf + '.')\n",
        "print('Olá,', nomeProfessor + '. Você possui', idadeProf, 'anos.')"
      ]
    },
    {
      "cell_type": "markdown",
      "metadata": {
        "id": "CRUsJzk4wfbA"
      },
      "source": [
        "## Atividade - Entrada e Saída"
      ]
    },
    {
      "cell_type": "markdown",
      "metadata": {
        "id": "SK3WHtmswfbA"
      },
      "source": [
        "1 - Peça ao usuário que digite seu time do coração e exiba uma mensagem qualquer.\n",
        "\n",
        "Exemplo:\n",
        "\n",
        "Entrada: MAC\n",
        "\n",
        "Saída: Top! O MAC é o melhor do mundo!\n"
      ]
    },
    {
      "cell_type": "code",
      "execution_count": null,
      "metadata": {
        "id": "h7TB10NhwfbA",
        "outputId": "612dd97b-060f-44de-d64d-3d8b18f21db2"
      },
      "outputs": [
        {
          "name": "stdout",
          "output_type": "stream",
          "text": [
            "Top! O MAC é o melhor do mundo!\n",
            "Top! O MAC é o melhor do mundo!\n",
            "Top! O MAC é o melhor do mundo!\n"
          ]
        }
      ],
      "source": [
        "seuTime = input('Qual o seu time de coração?')\n",
        "\n",
        "print('Top! O', seuTime, 'é o melhor do mundo!')\n",
        "print('Top! O ' + seuTime + ' é o melhor do mundo!')\n",
        "print(f'Top! O {seuTime} é o melhor do mundo!')"
      ]
    },
    {
      "cell_type": "markdown",
      "metadata": {
        "id": "R4L9MwBJwfbA"
      },
      "source": [
        "2 - Peça ao usuário para digitar sua comida favorita.\n",
        "\n",
        "Exemplo:\n",
        "\n",
        "Entrada: Lasanha\n",
        "\n",
        "Saída: Lasanha é bão mesmo!"
      ]
    },
    {
      "cell_type": "code",
      "execution_count": null,
      "metadata": {
        "id": "RrZQz4DxwfbA",
        "outputId": "f0e2f5e2-1818-4994-8696-bfb30fe26887"
      },
      "outputs": [
        {
          "name": "stdout",
          "output_type": "stream",
          "text": [
            "Lasanha é bão mesmo!\n",
            "Lasanha é bão mesmo!\n",
            "Lasanha é bão mesmo!\n"
          ]
        }
      ],
      "source": [
        "suaComida = input('Qual a sua comida favorita?')\n",
        "\n",
        "print(suaComida, 'é bão mesmo!')\n",
        "print(suaComida + ' é bão mesmo!')\n",
        "print(f'{suaComida} é bão mesmo!')"
      ]
    },
    {
      "cell_type": "markdown",
      "metadata": {
        "id": "4QmL-AAUwfbA"
      },
      "source": [
        "3 - Peça para o usuário para digitar uma palavra e um número. Depois, exiba uma senha personalizada.\n",
        "\n",
        "Exemplo:\n",
        "\n",
        "Entrada: Gato e 123\n",
        "\n",
        "Saída: Sua nova senha é Gato123"
      ]
    },
    {
      "cell_type": "code",
      "execution_count": null,
      "metadata": {
        "id": "aDcy9f5QwfbA",
        "outputId": "5be1ee48-2384-4b86-8d4f-7a2dc63fa7c9"
      },
      "outputs": [
        {
          "name": "stdout",
          "output_type": "stream",
          "text": [
            "Sua nova senha é Macaco22\n",
            "Sua nova senha é Macaco22\n"
          ]
        }
      ],
      "source": [
        "suaPalavra = input('Digite a palavra desejada:')\n",
        "seuNum = input('Digite o número desejado:')\n",
        "\n",
        "print('Sua nova senha é', suaPalavra + seuNum)\n",
        "print(f'Sua nova senha é {suaPalavra}{seuNum}')"
      ]
    },
    {
      "cell_type": "markdown",
      "metadata": {
        "id": "3axQIOdOwfbA"
      },
      "source": [
        "4 - Peça ao usuário para digitar um nome e uma profissão fictícia para um personagem.\n",
        "\n",
        "Exemplo:\n",
        "\n",
        "Entrada: Robscleyton / Manobrista de Nave\n",
        "\n",
        "Saída: Robscleyton é um grande manobrista de nave."
      ]
    },
    {
      "cell_type": "code",
      "execution_count": null,
      "metadata": {
        "id": "XoVJTGC-wfbA",
        "outputId": "ca8c3d03-81df-4a58-ab1c-d11b2b0cf86c"
      },
      "outputs": [
        {
          "name": "stdout",
          "output_type": "stream",
          "text": [
            "Plinio é um grande urologista.\n"
          ]
        }
      ],
      "source": [
        "seuNome = input('Digite o nome de seu personagem')\n",
        "seuJob = input('Digite o trabalho de seu personagem')\n",
        "\n",
        "print(seuNome.title(), 'é um grande', seuJob.lower() + '.')"
      ]
    },
    {
      "cell_type": "markdown",
      "metadata": {
        "id": "xnD-fLvkwfbA"
      },
      "source": [
        "## 3. Operações"
      ]
    },
    {
      "cell_type": "markdown",
      "metadata": {
        "id": "Sxo6T8AMwfbB"
      },
      "source": [
        "**Hierarquia dos Operadore**\n",
        "\n",
        "1. Parêntese ();\n",
        "2. Multiplicação e Divisão (* e /)\n",
        "3. Soma e Subtração (+ e -)"
      ]
    },
    {
      "cell_type": "code",
      "execution_count": null,
      "metadata": {
        "id": "QG-0x1UNwfbB"
      },
      "outputs": [],
      "source": [
        "print(1 + 1) #soma"
      ]
    },
    {
      "cell_type": "code",
      "execution_count": null,
      "metadata": {
        "id": "4Zzi1y70wfbB"
      },
      "outputs": [],
      "source": [
        "print(5 * 5) #multiplicação"
      ]
    },
    {
      "cell_type": "code",
      "execution_count": null,
      "metadata": {
        "id": "FVlzWx0rwfbB"
      },
      "outputs": [],
      "source": [
        "print(2 ** 2) #potenciação"
      ]
    },
    {
      "cell_type": "code",
      "execution_count": null,
      "metadata": {
        "id": "DR8XM1-0wfbB"
      },
      "outputs": [],
      "source": [
        "print(25 // 5) #divisão inteira"
      ]
    },
    {
      "cell_type": "code",
      "execution_count": null,
      "metadata": {
        "id": "163ElIuXwfbB"
      },
      "outputs": [],
      "source": [
        "print(25 % 5) #módulo (resto da divisão)"
      ]
    },
    {
      "cell_type": "markdown",
      "metadata": {
        "id": "08EkJPjkwfbE"
      },
      "source": [
        "# Exercícios - Operadores Aritméticos\n",
        "![image.png](attachment:image.png)"
      ]
    },
    {
      "cell_type": "markdown",
      "metadata": {
        "id": "z0rgcxPPwfbE"
      },
      "source": [
        "01 - Faça um algoritmo que leia dois valores inteiros e positivos. Ao fim, exiba a some destes valores ao usuário:"
      ]
    },
    {
      "cell_type": "code",
      "execution_count": null,
      "metadata": {
        "id": "447gu0vOwfbE",
        "outputId": "7c671ba2-4120-4a43-fbfa-065d835eb308"
      },
      "outputs": [
        {
          "name": "stdout",
          "output_type": "stream",
          "text": [
            "A soma dos dois valores é: 30\n"
          ]
        }
      ],
      "source": [
        "num1 = int(input('Digite um número inteiro'))\n",
        "num2 = int(input('Digite outro número inteiro, iremos somá-lo ao primeiro.'))\n",
        "\n",
        "numSoma = num1 + num2\n",
        "\n",
        "print(f'A soma dos dois valores é: {numSoma}')"
      ]
    },
    {
      "cell_type": "markdown",
      "metadata": {
        "id": "EvKzz2rNwfbE"
      },
      "source": [
        "02 - Faça um algoritmo que leia um número inteiro positivo e calcule o dobro deste número"
      ]
    },
    {
      "cell_type": "code",
      "execution_count": null,
      "metadata": {
        "id": "RXq6quNQwfbE",
        "outputId": "adbf4f4a-56a9-4ff7-b3f2-cf4014d866d1"
      },
      "outputs": [
        {
          "name": "stdout",
          "output_type": "stream",
          "text": [
            "O dobro de seu número é: 20\n"
          ]
        }
      ],
      "source": [
        "num = int(input('Digite um número inteiro positivo'))\n",
        "\n",
        "numDouble = num * 2\n",
        "\n",
        "if num < 0:\n",
        "    print('Seu número é negativo. Tente novamente')\n",
        "elif num > 0:\n",
        "    print(f'O dobro de seu número é: {numDouble}')\n",
        "else:\n",
        "    print(f'Para de brisar irmão')"
      ]
    },
    {
      "cell_type": "markdown",
      "metadata": {
        "id": "l_yTqhkWwfbF"
      },
      "source": [
        "03 - Faça um algoritmo que leia três notas de um aluno. Ao fim, exiba a média aritmética das três notas:"
      ]
    },
    {
      "cell_type": "code",
      "execution_count": null,
      "metadata": {
        "id": "tQ67m_jbwfbF",
        "outputId": "c5597268-177e-4dad-e157-da5c1bebf6b3"
      },
      "outputs": [
        {
          "name": "stdout",
          "output_type": "stream",
          "text": [
            "A média da nota dos três alunos é: 7.333333333333333\n"
          ]
        }
      ],
      "source": [
        "note1 = int(input('Digite a nota de um aluno'))\n",
        "note2 = int(input('Digite a nota de outro aluno'))\n",
        "note3 = int(input('Digite a nota de mais um aluno'))\n",
        "\n",
        "medium = ((note1 + note2 + note3) / 3)\n",
        "print(f'A média da nota dos três alunos é: {medium}')"
      ]
    },
    {
      "cell_type": "markdown",
      "metadata": {
        "id": "KBRj8zQ2wfbF"
      },
      "source": [
        "4. Cálcule a área de um triângulo.\n",
        "\n",
        "Fórmula: área = base * altura"
      ]
    },
    {
      "cell_type": "code",
      "execution_count": null,
      "metadata": {
        "id": "ikl16cwEwfbF",
        "outputId": "5fef9d08-f0f4-47ca-951b-d37dbeda7002"
      },
      "outputs": [
        {
          "name": "stdout",
          "output_type": "stream",
          "text": [
            "A área do triângulo é: 50.0\n"
          ]
        }
      ],
      "source": [
        "h = float(input('Digite a altura do triângulo'))\n",
        "b = float(input('Digite a base do triângulo'))\n",
        "\n",
        "triangle = h * b\n",
        "print(f'A área do triângulo é: {triangle}')"
      ]
    },
    {
      "cell_type": "markdown",
      "metadata": {
        "id": "uFGImAFLwfbF"
      },
      "source": [
        "5. Com o valor atual do Dólar, um casal precisa se planejar para uma viagem. Faça um algoritmo que permita o casal converter a quantidade de dinheiro em reais que possuem, para Dólar, considerando a cotação atual do dia."
      ]
    },
    {
      "cell_type": "code",
      "execution_count": null,
      "metadata": {
        "id": "ott4WJ6uwfbF",
        "outputId": "7de9f2db-d3f5-49e0-ef62-f608a4e4f06e"
      },
      "outputs": [
        {
          "name": "stdout",
          "output_type": "stream",
          "text": [
            "O valor do real em dolar é: 270.51\n"
          ]
        }
      ],
      "source": [
        "real = float(input('Digite a quantidade em reais'))\n",
        "dolar = 5.73\n",
        "valorConvertido = real / dolar\n",
        "\n",
        "print(f'O valor do real em dolar é: {valorConvertido:.2f}')"
      ]
    },
    {
      "cell_type": "markdown",
      "metadata": {
        "id": "m5MYxPD5wfbF"
      },
      "source": [
        "06. Solicite para o usuário a sua idade. COm sua idade, crie um algoritmo que calcule a quantidade de dias que a pessoa já viveu (aproximadamente)"
      ]
    },
    {
      "cell_type": "code",
      "execution_count": null,
      "metadata": {
        "id": "inmzyB3HwfbF",
        "outputId": "f0b36a3a-e013-4044-9384-1fd340d6bb59"
      },
      "outputs": [
        {
          "name": "stdout",
          "output_type": "stream",
          "text": [
            "Você já viveu por 6570 dias!\n"
          ]
        }
      ],
      "source": [
        "idade = int(input('Digite sua idade'))\n",
        "\n",
        "suaVida = idade * 365\n",
        "\n",
        "print(f'Você já viveu por {suaVida} dias!')"
      ]
    },
    {
      "cell_type": "markdown",
      "metadata": {
        "id": "LLoulllowfbF"
      },
      "source": [
        "7. Joáo está muito contente com o desempenho do seu time e resolveu adquirir uma camiseta do melhor time do mundo, COrinthians. Ao chegar na loja, percebeu que há um desconto em pagamentos à vista, que é a mesma forma que ele faria. Solicite ao usuário, o valor do produto, o percentual de desconto, e ao fim, exiba o preço já descontado para pagamento."
      ]
    },
    {
      "cell_type": "code",
      "execution_count": null,
      "metadata": {
        "id": "OYdxiT0bwfbF",
        "outputId": "1f412981-1d55-4c3d-ef6a-ed513b32e8ba"
      },
      "outputs": [
        {
          "name": "stdout",
          "output_type": "stream",
          "text": [
            "O valor da camiseta com o desconto é: 35.0\n"
          ]
        }
      ],
      "source": [
        "precoCamisa = float(input(\"Qual o valor da camiseta?\"))\n",
        "desconto = float(input(\"Qual o valor do desconto?\"))\n",
        "\n",
        "precoDescontado = precoCamisa - (precoCamisa * desconto / 100)\n",
        "\n",
        "print(f\"O valor da camiseta com o desconto é: {precoDescontado}\")"
      ]
    },
    {
      "cell_type": "markdown",
      "metadata": {
        "id": "pwlZagBOwfbF"
      },
      "source": [
        "8. Faça um algoritmo que leia uma temperatura em Celcius, e converta-a em Fahrenheit e em Kelvin."
      ]
    },
    {
      "cell_type": "code",
      "execution_count": null,
      "metadata": {
        "id": "bDafF_X7wfbF",
        "outputId": "7f218d82-6d71-444b-f6bd-3ee3c516230e"
      },
      "outputs": [
        {
          "name": "stdout",
          "output_type": "stream",
          "text": [
            "A sua temperatura em Fahrenheit em Kelvin, respectivamente: 53.6 e 285.0\n"
          ]
        }
      ],
      "source": [
        "temperatura = float(input(\"Digite a temperatura desejado\"))\n",
        "tempToFahrenheit = (temperatura * 1.8) + 32\n",
        "tempToKelvin = temperatura + 273\n",
        "\n",
        "print(f\"A sua temperatura em Fahrenheit em Kelvin, respectivamente: {tempToFahrenheit} e {tempToKelvin}\")"
      ]
    },
    {
      "cell_type": "markdown",
      "metadata": {
        "id": "8t0NkMVKwfbF"
      },
      "source": [
        "9. Faça um algoritmo que leia o peso e a altura de uma pessoa. Com esses dados, calcular o IMC do usuário."
      ]
    },
    {
      "cell_type": "code",
      "execution_count": null,
      "metadata": {
        "id": "mu_CR4wOwfbF",
        "outputId": "0e54cbe2-54f4-4e77-fb58-9fddcfd6f428"
      },
      "outputs": [
        {
          "name": "stdout",
          "output_type": "stream",
          "text": [
            "Seu Índice de Gordura Corporal é: 34.54287190082645\n"
          ]
        }
      ],
      "source": [
        "seuPeso = float(input(\"Digite o seu peso.\"))\n",
        "suaAltura = float(input(\"Digite sua altura.\"))\n",
        "\n",
        "imc = seuPeso / (suaAltura ** 2)\n",
        "\n",
        "print(f\"Seu Índice de Gordura Corporal é: {imc}\")"
      ]
    },
    {
      "cell_type": "markdown",
      "metadata": {
        "id": "76nETknTwfbF"
      },
      "source": [
        "10. Faça um algoritmo que solicite dois números ao usuário e calcule o resto da divisão entre eles."
      ]
    },
    {
      "cell_type": "code",
      "execution_count": null,
      "metadata": {
        "id": "aujqd-XlwfbG",
        "outputId": "6dd31bd9-156b-414f-f361-a550399c1540"
      },
      "outputs": [
        {
          "name": "stdout",
          "output_type": "stream",
          "text": [
            "O resto da divisão entre os dois números é: 2\n"
          ]
        }
      ],
      "source": [
        "num1 = int(input(\"Digite um número.\"))\n",
        "num2 = int(input(\"Digite outro número.\"))\n",
        "\n",
        "resto = num1 % num2\n",
        "\n",
        "print(f\"O resto da divisão entre os dois números é: {resto}\")"
      ]
    },
    {
      "cell_type": "markdown",
      "metadata": {
        "id": "K8BgalrJwfbG"
      },
      "source": [
        "11. Para se preparar para a Calourada, uma aluna do vôlei da turma ADS começou a correr para melhorar o condicionamento físico e deja calcular a sua **velocidade média** durante as sessões de corrida. Solicite ao usuário, a distância percorrida, e o tempo gasto da atividade para o cálculo."
      ]
    },
    {
      "cell_type": "code",
      "execution_count": null,
      "metadata": {
        "id": "-u4FXZibwfbG",
        "outputId": "1efe719e-ac97-46b0-9d16-ab987a861573"
      },
      "outputs": [
        {
          "name": "stdout",
          "output_type": "stream",
          "text": [
            "Sua velocidade média foi: 0.20\n"
          ]
        }
      ],
      "source": [
        "distance = float(input(\"Qual a distância percorrida em KM?\"))\n",
        "time = float(input(\"Qual foi o tempo gasto em horas?\"))\n",
        "\n",
        "mediumVelocity = distance / time\n",
        "\n",
        "print(f\"Sua velocidade média foi: {mediumVelocity:.2f}\")"
      ]
    },
    {
      "cell_type": "markdown",
      "metadata": {
        "id": "nrHofxs2wfbG"
      },
      "source": [
        "12. Faça um algortimo que leia um valor em anos. A partir dessa entrada, calcular quantos meses, dias, horas e minutos possui essa entrada."
      ]
    },
    {
      "cell_type": "code",
      "execution_count": null,
      "metadata": {
        "id": "Mw1gXWNPwfbG",
        "outputId": "967fa70e-8571-4dca-b6e3-c8e0859184e0"
      },
      "outputs": [
        {
          "name": "stdout",
          "output_type": "stream",
          "text": [
            "Dentro dessa quantidade de anos, temos 12 meses, 365 dias, 8766 horas e 525960 minutos!\n"
          ]
        }
      ],
      "source": [
        "years = int(input(\"Digite a quantidade de anos\"))\n",
        "yearMonths = years * 12\n",
        "yearDays = years * 365\n",
        "yearHours = years * 8766\n",
        "yearMinutes = years * 525960\n",
        "\n",
        "print(f\"Dentro dessa quantidade de anos, temos {yearMonths} meses, {yearDays} dias, {yearHours} horas e {yearMinutes} minutos!\")"
      ]
    },
    {
      "cell_type": "markdown",
      "metadata": {
        "id": "6IU1bFZHnrHG"
      },
      "source": [
        "13. Faça um algoritmo que calcule a conta final de um dado cliente na Unimar Lanches, que por sua vez, possui a seguinte tabela de preços:\n",
        "\n",
        "* Hamburguer - R$18.50\n",
        "* X-Salada - R$22.00\n",
        "* Fritas - R$12.90\n",
        "* Refri - R$5.00\n",
        "* Milkshake - R$8.99\n",
        "\n",
        "O cliente poderá escolher quantos produtos desejar. Ao fim, mostrar o total ao cliente."
      ]
    },
    {
      "cell_type": "code",
      "execution_count": null,
      "metadata": {
        "id": "rMMkqbxmwfbG",
        "outputId": "f56d97ad-aa98-45e4-ad8e-0aec81ab7235"
      },
      "outputs": [
        {
          "name": "stdout",
          "output_type": "stream",
          "text": [
            "O cliente terá que pagar R$64.0.\n"
          ]
        }
      ],
      "source": [
        "hamburguer = 18.50\n",
        "xsalada = 22.00\n",
        "fritas = 12.90\n",
        "refri = 5.00\n",
        "milkshake = 8.99\n",
        "\n",
        "def calculus():\n",
        "    hamQuant = float(input(\"Quantos hamburguers o cliente pediu?\"))\n",
        "    hamCalc = hamburguer * hamQuant\n",
        "\n",
        "    xsalQuant = float(input(\"Quantos X-Salada o cliente pediu\"))\n",
        "    xsalCalc = xsalada * xsalQuant\n",
        "\n",
        "    fritasQuant = float(input(\"Quantas fritas o cliente pediu?\"))\n",
        "    fritasCalc = fritas * fritasQuant\n",
        "\n",
        "    refriQuant = float(input(\"Quantas refris o cliente pediu?\"))\n",
        "    refriCalc = refri * refriQuant\n",
        "\n",
        "    milkQuant = float(input(\"Quantas milk-shakes o cliente pediu?\"))\n",
        "    milkCalc = milkshake * milkQuant\n",
        "\n",
        "    allCalc = hamCalc + xsalCalc + fritasCalc + refriCalc + milkCalc\n",
        "\n",
        "    print(f\"O cliente terá que pagar R${allCalc}\")\n",
        "\n",
        "calculus()\n"
      ]
    },
    {
      "cell_type": "markdown",
      "metadata": {
        "id": "H0OaT-96wfbG"
      },
      "source": [
        "14. Os funcionários do Bar do Moe's conseguiram um adicional devido a alta das vendas neste período do ano. Faça um algoritmo que leia o salário base do funcionário, o percentual de acréscimo, e ao fim mostre o salário total recalculado."
      ]
    },
    {
      "cell_type": "code",
      "execution_count": null,
      "metadata": {
        "id": "-2Qh_8BkwfbG",
        "outputId": "d93ab82d-e4a8-4c2a-c790-70e9f78e0a11"
      },
      "outputs": [
        {
          "name": "stdout",
          "output_type": "stream",
          "text": [
            "O salário adicionado ao percentual é: 1782.5\n"
          ]
        }
      ],
      "source": [
        "salary = float(input(\"Qual o salário do safado do barman?\"))\n",
        "salaryAcr = float(input(\"Qual o percentual de acréscimo?\"))\n",
        "\n",
        "salaryDivision = (salaryAcr / 100) * salary\n",
        "salaryCalc = salaryDivision + salary\n",
        "\n",
        "print(f\"O salário adicionado ao percentual é: {salaryCalc}\")"
      ]
    },
    {
      "cell_type": "markdown",
      "metadata": {
        "id": "taDYMraywfbG"
      },
      "source": [
        "## Relacionais\n",
        "\n",
        "Operadores relacionais, são responsáveis por relacionar dois objetos. Sempre retornarão `True` ou `False`.\n",
        "\n",
        "![image.png](attachment:image.png)"
      ]
    },
    {
      "cell_type": "code",
      "execution_count": null,
      "metadata": {
        "id": "EbsQZw8twfbG",
        "outputId": "b645776b-91d5-460b-fd6c-5ab50b19ed12"
      },
      "outputs": [
        {
          "name": "stdout",
          "output_type": "stream",
          "text": [
            "True\n",
            "False\n",
            "False\n"
          ]
        }
      ],
      "source": [
        "print(5 == 5) #igualdade\n",
        "print(5 == 4)\n",
        "\n",
        "n1 = 5\n",
        "n2 = 4\n",
        "\n",
        "print(n1 == n2)"
      ]
    },
    {
      "cell_type": "code",
      "execution_count": null,
      "metadata": {
        "id": "pHC7WXYgwfbG",
        "outputId": "143ab59b-771e-44d5-b43b-26d6bfac2196"
      },
      "outputs": [
        {
          "name": "stdout",
          "output_type": "stream",
          "text": [
            "True\n",
            "False\n"
          ]
        }
      ],
      "source": [
        "print(10 > 5) #maior\n",
        "print(5 > 10)"
      ]
    },
    {
      "cell_type": "code",
      "execution_count": null,
      "metadata": {
        "id": "jbdREtsTwfbG",
        "outputId": "b9f1a46c-ea14-432b-a57f-8679672baa6b"
      },
      "outputs": [
        {
          "name": "stdout",
          "output_type": "stream",
          "text": [
            "True\n",
            "False\n"
          ]
        }
      ],
      "source": [
        "print(10 >= 5) #maior OU igual\n",
        "print(5 >= 10)"
      ]
    },
    {
      "cell_type": "code",
      "execution_count": null,
      "metadata": {
        "id": "x3__WSBQwfbG",
        "outputId": "ace99446-d832-48e9-8e9a-a2516a1047f9"
      },
      "outputs": [
        {
          "name": "stdout",
          "output_type": "stream",
          "text": [
            "True\n",
            "False\n"
          ]
        }
      ],
      "source": [
        "print(5 < 10) #menor\n",
        "print(10 < 5)"
      ]
    },
    {
      "cell_type": "code",
      "execution_count": null,
      "metadata": {
        "id": "2epwj6CbwfbG",
        "outputId": "9aafda99-cd11-4a5d-de7b-fa30f4823a1e"
      },
      "outputs": [
        {
          "name": "stdout",
          "output_type": "stream",
          "text": [
            "True\n",
            "False\n"
          ]
        }
      ],
      "source": [
        "print(5 <= 10) #menor OU igual\n",
        "print(10 <= 5)"
      ]
    },
    {
      "cell_type": "markdown",
      "metadata": {
        "id": "BBkXcQ-7wfbH"
      },
      "source": [
        "## 4. Lógicos\n",
        "\n",
        "Operadores lógicos são utilizados para realizar operações de comparação entre valores ou expressões.\n",
        "O resultado de uma expressão com a utilização dos operadores lógicos retornará uma expressão que poderá ser `False` ou `True`\n",
        "\n",
        "**E lógico** (AND): Retorna verdadeiro se **ambas** as expressões envolvidas forem verdadeiras, caso contrário, retorna falso.\n",
        "\n",
        "**OU lógico** (OR) Retorna verdadeiro se pelo menos **uma** das expressões envolidas for verdadeira.\n",
        "\n",
        "**NÃO lógico** (NOT) Este operador **nega o valor** de uma expressão. Se a expressão é verdadeira (`True`)\n",
        "\n",
        "![image.png](attachment:image.png)\n"
      ]
    },
    {
      "cell_type": "markdown",
      "metadata": {
        "id": "cO6fZ0WBwfbH"
      },
      "source": [
        "Operador AND"
      ]
    },
    {
      "cell_type": "code",
      "execution_count": null,
      "metadata": {
        "id": "8xrRT55twfbH"
      },
      "outputs": [],
      "source": [
        "n1 = 2\n",
        "n2 = 5\n",
        "n3 = 7\n",
        "n4 = 10\n",
        "\n",
        "print(n4 > n1 and n2 > n4) # V e F = F\n",
        "print(n1 > n3 and n3 > n2) # F e V = F\n",
        "print(n1 < n2 and n3 < n4) # V e V = V\n",
        "print(n4 > n1 and n3 > n4) # F e F = F"
      ]
    },
    {
      "cell_type": "markdown",
      "metadata": {
        "id": "cJ4zQjT4wfbH"
      },
      "source": [
        "Operador OR"
      ]
    },
    {
      "cell_type": "code",
      "execution_count": null,
      "metadata": {
        "id": "dhpbleemwfbH"
      },
      "outputs": [],
      "source": [
        "n1 = 2\n",
        "n2 = 5\n",
        "n3 = 7\n",
        "n4 = 10\n",
        "\n",
        "print(n4 > n1 or n2 > n4) # V ou F = F\n",
        "print(n1 > n3 or n3 > n2) # F ou V = V\n",
        "print(n1 < n2 or n3 < n4) # V ou V = V\n",
        "print(n4 > n1 or n3 > n4) # F ou F = F"
      ]
    },
    {
      "cell_type": "markdown",
      "metadata": {
        "id": "OO7CTUaqwfbH"
      },
      "source": [
        "Operador NOT"
      ]
    },
    {
      "cell_type": "code",
      "execution_count": null,
      "metadata": {
        "id": "nbTHotcewfbH",
        "outputId": "c1bb40d3-68b1-4328-87ac-4dc468115424"
      },
      "outputs": [
        {
          "name": "stdout",
          "output_type": "stream",
          "text": [
            "False\n"
          ]
        }
      ],
      "source": [
        "palmeiras_tem_mundial = True\n",
        "print(not palmeiras_tem_mundial) #False"
      ]
    },
    {
      "cell_type": "code",
      "execution_count": null,
      "metadata": {
        "id": "peKIIAXYwfbH",
        "outputId": "e6e8e2cd-870a-4bf6-b456-caa2b8cac234"
      },
      "outputs": [
        {
          "name": "stdout",
          "output_type": "stream",
          "text": [
            "True\n"
          ]
        }
      ],
      "source": [
        "curintia_tem_2_mundial = False\n",
        "print(not curintia_tem_2_mundial) #True"
      ]
    },
    {
      "cell_type": "code",
      "execution_count": null,
      "metadata": {
        "id": "2_wD2rSuwfbH",
        "outputId": "4d375e01-9cec-44ba-e698-43aedb74af00"
      },
      "outputs": [
        {
          "name": "stdout",
          "output_type": "stream",
          "text": [
            "False\n"
          ]
        }
      ],
      "source": [
        "nicollas_netto = True\n",
        "print(not nicollas_netto) #False"
      ]
    },
    {
      "cell_type": "markdown",
      "metadata": {
        "id": "yskSpnntwfbH"
      },
      "source": [
        "# 4.1. Estruturas de Controle\n",
        "\n",
        "Estrutura de seleção é utilizada quando um algoritmo necessita escolher uma instruççao ou um conjunto de instruções quando uma **condição** (representada por uma expressão relacional ou lógica) é satisfeita ou não."
      ]
    },
    {
      "cell_type": "markdown",
      "metadata": {
        "id": "6QWSTvMowfbH"
      },
      "source": [
        "## Estrutura de seleção simples (IF)\n",
        "![image.png](attachment:image.png)"
      ]
    },
    {
      "cell_type": "markdown",
      "metadata": {
        "id": "Aw0SHMeOwfbH"
      },
      "source": [
        "Exemplo:\n",
        "\n",
        "se (condição):\n",
        "    <instrução_1>\n",
        "    <instrução_2>\n",
        "    ...\n",
        "    <instrução_n>\n"
      ]
    },
    {
      "cell_type": "markdown",
      "metadata": {
        "id": "0Mb3aQi_wfbH"
      },
      "source": [
        "Quando o computador encontra o bloco de instruções acima, inicialmente a condição é testada. Caso o resultado do teste seja um valor **verdadeiro**, o conjunto de instruções dentro do bloco `se` será executado. Caso a condição resulte em um valor **falso** todo o bloco de instruções é **ignorado** e o fluxo de execução do algoritmo segue logo abaixo do bloco `se`."
      ]
    },
    {
      "cell_type": "markdown",
      "metadata": {
        "id": "5o8AQDdIwfbH"
      },
      "source": [
        "## Sintaxe\n",
        "\n",
        "Observa-se que, em Python, após a condição, **deverá** ter dois pontos (:), que indica o início de um novo bloco. Caso a condição seja verdadeira, será executado o bloco abaixo dos dois pontos. Esse bloco deverá estar **IDENTADO** com um TAB a frente do `SE`.\n",
        "\n",
        "- **IF = SE**\n",
        "- **ELSE = SENÃO**\n",
        "- **ELIF = SENÃO SE**\n",
        "\n",
        "![image.png](attachment:image.png)\n",
        "\n",
        "Exemplos:"
      ]
    },
    {
      "cell_type": "code",
      "execution_count": null,
      "metadata": {
        "id": "yobS7tJ0nrHI"
      },
      "outputs": [],
      "source": [
        "numero = int(input('Insira um número inteiro > '))\n",
        "resto_divisao = numero % 2\n",
        "\n",
        "if (resto_divisao == 0):\n",
        "    print(f'O número {numero} é par')\n",
        "else:\n",
        "    print(f'O número {numero} é impar')"
      ]
    },
    {
      "cell_type": "markdown",
      "metadata": {
        "id": "U9Z3JcNSnrHI"
      },
      "source": [
        "Estrutura de Seleção Composta\n",
        "\n",
        "![image.png](attachment:image.png)"
      ]
    },
    {
      "cell_type": "markdown",
      "metadata": {
        "id": "0COSmkoknrHI"
      },
      "source": [
        "Estrutura de Sintaxe Composta\n",
        "\n",
        "![image.png](attachment:image.png)"
      ]
    },
    {
      "cell_type": "markdown",
      "metadata": {
        "id": "svaJWS6ynrHI"
      },
      "source": [
        "Da mesma forma que a estrutura de seleção simples, a condição é testada. Caso o valor resulta em **VERDADEIRO**, o conjuro de instruções logo abaixo do comando `SE` será executado e o conjunto de instruções pertencentes ao bloco `SENAO` serão ignorados.\n",
        "\n",
        "Por outro lado, caso o teste resulte em um valor **FALSO**, o conjunto de instruções pertencentes ao bloco `SENAO` serão executados.\n",
        "\n",
        "Após a execução de um dos conjuntos de instruções o fluxo do programa continua sua execução logo abaixo da estrutura de seleção."
      ]
    },
    {
      "cell_type": "markdown",
      "metadata": {
        "id": "oH7HUty2nrHI"
      },
      "source": [
        "## Observações\n",
        "\n",
        "- 1. Pode-se ter uma instrução `SE` (if) sem o bloco `SENAO`, mas o contrário não é possível. Toda instrução `SENAO` deve estar associada a uma instrução `SE`. Cada instrução `SE` pode ter apenas uma instrução `SENAO` associada.\n",
        "- 2. Ao escrever a instrução `SENAO` (else) **não se deve colocar nenhuma condição lógica**, pois a sua execução sempre correrá quando a condição da instrução `SE` for falsa.\n"
      ]
    },
    {
      "cell_type": "code",
      "execution_count": null,
      "metadata": {
        "id": "GNSUytSanrHI",
        "outputId": "0faf2422-b61b-47e1-f8bf-02d584bf8153"
      },
      "outputs": [
        {
          "name": "stdout",
          "output_type": "stream",
          "text": [
            "1000000 é par\n"
          ]
        }
      ],
      "source": [
        "#algoritmo valida número par ou impar\n",
        "\n",
        "# entrada\n",
        "numero = int(input('Insira um valor inteiro > '))\n",
        "resto = numero % 2\n",
        "\n",
        "#saída\n",
        "if resto == 0:\n",
        "    print(f'{numero} é par')\n",
        "else:\n",
        "    print(f'{numero} é impar')"
      ]
    },
    {
      "cell_type": "code",
      "execution_count": null,
      "metadata": {
        "id": "gvJA1HkjnrHI",
        "outputId": "5733ded7-91af-45d2-9d39-26fe697a62f3"
      },
      "outputs": [
        {
          "name": "stdout",
          "output_type": "stream",
          "text": [
            "-1 é negativo\n"
          ]
        }
      ],
      "source": [
        "#algoritmo valida positivo ou negativo\n",
        "\n",
        "# entrada\n",
        "numero = int(input('Insira um valor inteiro > '))\n",
        "\n",
        "#saída\n",
        "if numero >= 0:\n",
        "    print(f'{numero} é positivo')\n",
        "else:\n",
        "    print(f'{numero} é negativo')"
      ]
    },
    {
      "cell_type": "markdown",
      "metadata": {
        "id": "_8plzw83nrHI"
      },
      "source": [
        "# Exercícios - Estrutura de Seleção"
      ]
    },
    {
      "cell_type": "markdown",
      "metadata": {
        "id": "FSnlHw-9nrHI"
      },
      "source": [
        "01. Faça um algoritmo que leia duas notas, calcule a média e verifique se o aluno foi aprovovado ou reprovado. Para estar aprovado, a média deverá ser maior ou igual a 7.\n",
        "02. Faça um algoritmo que leia dois valores inteiros e determine qual deles é o maior."
      ]
    },
    {
      "cell_type": "code",
      "execution_count": null,
      "metadata": {
        "id": "-aPwJ1qGnrHI",
        "outputId": "7b64e55c-5624-4381-e1f8-28166515648b"
      },
      "outputs": [
        {
          "name": "stdout",
          "output_type": "stream",
          "text": [
            "Reprovado\n"
          ]
        }
      ],
      "source": [
        "# 01\n",
        "\n",
        "notaUm = float(input('Insira a primeira nota > '))\n",
        "notaDois = float(input('Insira a segunda nota > '))\n",
        "\n",
        "notaFinal = (notaUm + notaDois / 2)\n",
        "\n",
        "if notaFinal >= 7:\n",
        "    print('Aprovado')\n",
        "else:\n",
        "    print('Reprovado')"
      ]
    },
    {
      "cell_type": "code",
      "execution_count": null,
      "metadata": {
        "id": "ncf5hAxdnrHI",
        "outputId": "67b1596f-4b30-43fa-f956-a43ca7ef1845"
      },
      "outputs": [
        {
          "name": "stdout",
          "output_type": "stream",
          "text": [
            "3 e 3 são iguais.\n"
          ]
        }
      ],
      "source": [
        "# 02\n",
        "\n",
        "inteiroUm = int(input('Insira um valor inteiro > '))\n",
        "inteiroOutro = int(input('Insira outro valor inteiro > '))\n",
        "\n",
        "if inteiroUm > inteiroOutro:\n",
        "    print(f'{inteiroUm} é maior que {inteiroOutro}.')\n",
        "elif inteiroUm < inteiroOutro:\n",
        "    print(f'{inteiroOutro} é maior que {inteiroUm}.')\n",
        "else:\n",
        "    print(f'{inteiroUm} e {inteiroOutro} são iguais.')"
      ]
    },
    {
      "cell_type": "markdown",
      "metadata": {
        "id": "2WvTBbKsnrHI"
      },
      "source": [
        "## IF / ELIF - Encadeado\n",
        "\n",
        "Cada `ìf` será avaliado individualmente, o que significa que todas as condições podem ser verdadeiras e ser executadas.\n",
        "\n",
        "Abaixo a estrutura não encadeada:"
      ]
    },
    {
      "cell_type": "code",
      "execution_count": null,
      "metadata": {
        "id": "kzEJfWNfnrHJ"
      },
      "outputs": [],
      "source": [
        "velocidade = 150\n",
        "\n",
        "if velocidade > 80:\n",
        "    print('Multa leve aplicada!')\n",
        "\n",
        "if velocidade > 100:\n",
        "    print('Multa grave aplicada!')\n",
        "\n",
        "if velocidade > 120:\n",
        "    print('Multa gravísssima aplicada!')\n",
        "\n",
        "print('Programa encerrado.')\n"
      ]
    },
    {
      "cell_type": "markdown",
      "metadata": {
        "id": "Z-LUo4NrnrHJ"
      },
      "source": [
        "E agora abaixo a estrutura encadeada:"
      ]
    },
    {
      "cell_type": "code",
      "execution_count": null,
      "metadata": {
        "id": "aM4L--bZnrHJ",
        "outputId": "a5e6368b-7319-4a4e-d456-2777edbee455"
      },
      "outputs": [
        {
          "name": "stdout",
          "output_type": "stream",
          "text": [
            "Infração média, multa de R$130,16\n"
          ]
        }
      ],
      "source": [
        "pergunta = int(input('Qual foi a velocidade que foi ultrapassada do normal? > '))\n",
        "\n",
        "if pergunta > 80:\n",
        "    print(f'Infração média, multa de R$130,16!')\n",
        "elif pergunta >= 110:\n",
        "    print(f'Infração grave, multa de R$195,23!')\n",
        "elif pergunta >= 120:\n",
        "    print(f'Infração gravíssima, multa de R$ 293,47!')\n",
        "else:\n",
        "    print('Você está dentro do limite de velocidade!')"
      ]
    },
    {
      "cell_type": "markdown",
      "metadata": {
        "id": "Hz2IIrfJnrHJ"
      },
      "source": [
        "3. Faça um algoritmo que leia a velocidade máxima permitida em uma rodovia e também a velocidade de um determinado veículo. Verifique se o carro infringiu o limite de velocidade permitido e pagará multa ou não.\n",
        "4. Idem ao 2 porém com 3 valores."
      ]
    },
    {
      "cell_type": "code",
      "execution_count": null,
      "metadata": {
        "id": "hrPksv6fnrHJ"
      },
      "outputs": [],
      "source": [
        "# 03 - Forma 1\n",
        "pergunta = int(input('Qual foi a velocidade que foi ultrapassada do normal? > '))\n",
        "\n",
        "if pergunta > 80:\n",
        "    print(f'Infração média, multa de R$130,16!')\n",
        "elif pergunta >= 110:\n",
        "    print(f'Infração grave, multa de R$195,23!')\n",
        "elif pergunta >= 120:\n",
        "    print(f'Infração gravíssima, multa de R$ 293,47!')\n",
        "else:\n",
        "    print('Você está dentro do limite de velocidade!')\n",
        "\n",
        "# 03 - Forma 2\n",
        "\n",
        "velocidadeMaxima = int(input('Insira a velocidade máxima permitida:'))\n",
        "velocidadeUltrapassada = int(input('Insira a velocidade que foi ultrapassada do normal > '))\n",
        "\n",
        "if velocidadeUltrapassada > velocidadeMaxima:\n",
        "    print(f'Vai tomar multa!')\n",
        "else:\n",
        "    print('Não vai tomar multa!')"
      ]
    },
    {
      "cell_type": "code",
      "execution_count": null,
      "metadata": {
        "id": "-Hr4_SeqnrHJ",
        "outputId": "87084952-51ff-486f-aab3-7a1e7621ccd1"
      },
      "outputs": [
        {
          "name": "stdout",
          "output_type": "stream",
          "text": [
            "Os valores são iguais\n"
          ]
        }
      ],
      "source": [
        "# 04\n",
        "\n",
        "inteiroUm = int(input('Insira um valor inteiro > '))\n",
        "inteiroDois = int(input('Insira outro valor inteiro > '))\n",
        "inteiroTres = int(input('Insira outro valor inteiro > '))\n",
        "\n",
        "if inteiroUm > inteiroDois and inteiroUm > inteiroTres:\n",
        "    print(f'(O maior valor é {inteiroUm:2f}')\n",
        "elif inteiroDois > inteiroUm and inteiroDois > inteiroTres:\n",
        "    print(f'O maior valor é {inteiroDois:2f}')\n",
        "elif inteiroTres > inteiroUm and inteiroTres > inteiroDois:\n",
        "    print(f'O maior valor é {inteiroTres:2f}')\n",
        "else:\n",
        "    print('Os valores são iguais')"
      ]
    },
    {
      "cell_type": "markdown",
      "metadata": {
        "id": "2edgIjLinrHJ"
      },
      "source": [
        "5. Faça um algoritmo que leia a altura e o sexo de uma pessoa. Calcule e mostre o seu peso ideal utilizando as seguintes fórmulas:\n",
        "- Para homens: peso ideal = (altura * 72.7) - 58\n",
        "- Para mulheres: peso ideal = (altura * 62.1) - 44.7"
      ]
    },
    {
      "cell_type": "code",
      "execution_count": null,
      "metadata": {
        "id": "3RZcNf5ZnrHJ",
        "outputId": "da7a536d-6b8b-4174-fd63-882f68bbf903"
      },
      "outputs": [
        {
          "name": "stdout",
          "output_type": "stream",
          "text": [
            "O seu peso ideal é 83.03800000000001 kg, de acordo com seu gênero!\n"
          ]
        }
      ],
      "source": [
        "# 05\n",
        "\n",
        "sexo = input('Insira o seu sexo > ')\n",
        "altura = float(input('Insira sua altura > '))\n",
        "\n",
        "calculoFeminino = (altura * 62.1) - 44.7\n",
        "calculoMasculino = (altura * 72.7) - 58\n",
        "\n",
        "if sexo.lower() == 'feminino':\n",
        "    print(f'O seu peso ideal é {calculoFeminino:.2f} kg, de acordo com seu gênero!')\n",
        "elif sexo.lower() == 'masculino':\n",
        "    print(f'O seu peso ideal é {calculoMasculino:2f} kg, de acordo com seu gênero!')\n",
        "else:\n",
        "    print('Sexo inválido!')"
      ]
    }
  ],
  "metadata": {
    "colab": {
      "provenance": [],
      "include_colab_link": true
    },
    "kernelspec": {
      "display_name": "Python 3",
      "name": "python3"
    },
    "language_info": {
      "codemirror_mode": {
        "name": "ipython",
        "version": 3
      },
      "file_extension": ".py",
      "mimetype": "text/x-python",
      "name": "python",
      "nbconvert_exporter": "python",
      "pygments_lexer": "ipython3",
      "version": "3.12.4"
    }
  },
  "nbformat": 4,
  "nbformat_minor": 0
}